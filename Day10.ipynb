{
  "nbformat": 4,
  "nbformat_minor": 0,
  "metadata": {
    "colab": {
      "provenance": []
    },
    "kernelspec": {
      "name": "python3",
      "display_name": "Python 3"
    },
    "language_info": {
      "name": "python"
    }
  },
  "cells": [
    {
      "cell_type": "code",
      "execution_count": null,
      "metadata": {
        "colab": {
          "base_uri": "https://localhost:8080/"
        },
        "id": "H_RF0ohy78xs",
        "outputId": "65752ce6-2fd7-4318-a874-77693568c306"
      },
      "outputs": [
        {
          "output_type": "stream",
          "name": "stdout",
          "text": [
            "a has more than b has\n",
            "x has truth value as true\n",
            "hence you can see this msg\n"
          ]
        }
      ],
      "source": [
        "a=100\n",
        "b=70\n",
        "grade=a\n",
        "x=100\n",
        "if grade=='a':\n",
        "   print (\"you did well\")\n",
        "if a>b:\n",
        "   print (\"a has more than b has\")\n",
        "if x:\n",
        "   print (\"x has truth value as true\")\n",
        "   print (\"hence you can see this msg\")"
      ]
    },
    {
      "cell_type": "code",
      "source": [
        "radius=float (input (\"enter radius of the circle:\"))\n",
        "print (\"1.calculate area\")\n",
        "print (\"2.calculate perimeter\")\n",
        "choice=int(input(\"enter your choice (1 or 2):\"))\n",
        "if choice==1:\n",
        "   area=3.14159*radius*radius\n",
        "   print (\"area of circle with radius\", radius,'is',area)\n",
        "else:\n",
        "   perm=2*3.14159*radius\n",
        "   print (\"perimeter of circle with radius\", radius,'is',perm)"
      ],
      "metadata": {
        "colab": {
          "base_uri": "https://localhost:8080/"
        },
        "id": "GkQtKV6C9eKd",
        "outputId": "de9e7a43-2ed7-4f9b-d102-7a9b83518dd3"
      },
      "execution_count": null,
      "outputs": [
        {
          "output_type": "stream",
          "name": "stdout",
          "text": [
            "enter radius of the circle:2.5\n",
            "1.calculate area\n",
            "2.calculate perimeter\n",
            "enter your choice (1 or 2):1\n",
            "area of circle with radius 2.5 is 19.6349375\n"
          ]
        }
      ]
    },
    {
      "cell_type": "code",
      "source": [
        "if grade=='a':\n",
        "   print (\"you did well\")\n",
        "if a>b:\n",
        "   print (\"a has more than b has\")\n",
        "if x:\n",
        "   print (\"x has truth value as true\")\n",
        "   print (\"hence you can see this msg\")"
      ],
      "metadata": {
        "colab": {
          "base_uri": "https://localhost:8080/"
        },
        "id": "aAqDakOCLobs",
        "outputId": "106e55c0-cb08-41e3-a260-da70153219c8"
      },
      "execution_count": null,
      "outputs": [
        {
          "output_type": "stream",
          "name": "stdout",
          "text": [
            "a has more than b has\n",
            "x has truth value as true\n",
            "hence you can see this msg\n"
          ]
        }
      ]
    }
  ]
}